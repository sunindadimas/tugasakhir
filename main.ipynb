{
 "cells": [
  {
   "cell_type": "code",
   "execution_count": 55,
   "metadata": {},
   "outputs": [
    {
     "name": "stdout",
     "output_type": "stream",
     "text": [
      "                    Nama  Gaji (jutaan)  Pengeluaran (jutaan)\n",
      "0               John Doe            5.0                   2.0\n",
      "1             Jane Smith            4.5                   1.5\n",
      "2        Michael Johnson            6.0                   3.0\n",
      "3            Emily Davis            7.0                   2.5\n",
      "4           David Wilson            3.0                   2.0\n",
      "5         Sarah Anderson            3.5                   1.5\n",
      "6          Robert Taylor            8.0                   4.0\n",
      "7         Jennifer Brown            9.0                   3.5\n",
      "8   Christopher Martinez            2.5                   1.8\n",
      "9        Amanda Thompson            3.5                   2.2\n",
      "10          Jason Garcia            4.0                   1.8\n",
      "11        Jessica Thomas            5.5                   2.8\n",
      "12        Brian Robinson            6.0                   3.2\n",
      "13        Stephanie Hill            6.5                   3.8\n",
      "14           Kevin Lewis            4.0                   2.0\n",
      "15          Laura Walker            4.5                   2.3\n",
      "16          Daniel White            5.0                   2.5\n",
      "17        Melissa Turner            3.0                   1.7\n",
      "18         Matthew Adams            5.5                   3.0\n",
      "19       Kimberly Wright            6.0                   3.5\n",
      "20        James Mitchell            7.0                   4.0\n",
      "21             Lisa Hall            3.5                   1.5\n",
      "22          Daniel Clark            4.0                   1.8\n",
      "23          Nicole Allen            4.5                   2.0\n",
      "24         Anthony Young            5.0                   2.2\n",
      "25      Angela Hernandez            5.5                   2.8\n",
      "26         William Scott            6.0                   3.0\n",
      "27       Christina Lopez            6.5                   3.5\n",
      "28            Ryan Green            3.5                   1.5\n",
      "29         Rebecca Baker            4.0                   1.8\n",
      "30         Andrew Harris            4.5                   2.0\n",
      "31         Michelle King            5.0                   2.2\n",
      "32        Brandon Wright            5.5                   2.8\n",
      "33             Amy Adams            6.0                   3.0\n",
      "34           Eric Nelson            6.5                   3.5\n",
      "35       Rachel Martinez            7.0                   4.0\n",
      "36          Jason Cooper            3.5                   1.5\n",
      "37      Stephanie Turner            4.0                   1.8\n",
      "38       Patrick Roberts            4.5                   2.0\n",
      "39       Samantha Nelson            5.0                   2.2\n",
      "40        David Thompson            5.5                   2.8\n",
      "41      Ashley Rodriguez            6.0                   3.0\n",
      "42            Justin Lee            6.5                   3.5\n",
      "43          Nicole Moore            3.5                   1.5\n",
      "44         Steven Turner            4.0                   1.8\n",
      "45        Rebecca Walker            4.5                   2.0\n",
      "46           Jacob Young            5.0                   2.2\n",
      "47       Elizabeth Davis            5.5                   2.8\n",
      "48       Jonathan Harris            6.0                   3.0\n"
     ]
    }
   ],
   "source": [
    "import pandas as pd\n",
    "import numpy as np\n",
    "import matplotlib.pyplot as plt\n",
    "from sklearn.cluster import KMeans\n",
    "\n",
    "data = pd.read_csv(\"dataset.csv\")\n",
    "df = pd.DataFrame(data)\n",
    "print(df)"
   ]
  },
  {
   "cell_type": "code",
   "execution_count": 56,
   "metadata": {},
   "outputs": [
    {
     "name": "stdout",
     "output_type": "stream",
     "text": [
      "    Gaji (jutaan)  Pengeluaran (jutaan)\n",
      "0             5.0                   2.0\n",
      "1             4.5                   1.5\n",
      "2             6.0                   3.0\n",
      "3             7.0                   2.5\n",
      "4             3.0                   2.0\n",
      "5             3.5                   1.5\n",
      "6             8.0                   4.0\n",
      "7             9.0                   3.5\n",
      "8             2.5                   1.8\n",
      "9             3.5                   2.2\n",
      "10            4.0                   1.8\n",
      "11            5.5                   2.8\n",
      "12            6.0                   3.2\n",
      "13            6.5                   3.8\n",
      "14            4.0                   2.0\n",
      "15            4.5                   2.3\n",
      "16            5.0                   2.5\n",
      "17            3.0                   1.7\n",
      "18            5.5                   3.0\n",
      "19            6.0                   3.5\n",
      "20            7.0                   4.0\n",
      "21            3.5                   1.5\n",
      "22            4.0                   1.8\n",
      "23            4.5                   2.0\n",
      "24            5.0                   2.2\n",
      "25            5.5                   2.8\n",
      "26            6.0                   3.0\n",
      "27            6.5                   3.5\n",
      "28            3.5                   1.5\n",
      "29            4.0                   1.8\n",
      "30            4.5                   2.0\n",
      "31            5.0                   2.2\n",
      "32            5.5                   2.8\n",
      "33            6.0                   3.0\n",
      "34            6.5                   3.5\n",
      "35            7.0                   4.0\n",
      "36            3.5                   1.5\n",
      "37            4.0                   1.8\n",
      "38            4.5                   2.0\n",
      "39            5.0                   2.2\n",
      "40            5.5                   2.8\n",
      "41            6.0                   3.0\n",
      "42            6.5                   3.5\n",
      "43            3.5                   1.5\n",
      "44            4.0                   1.8\n",
      "45            4.5                   2.0\n",
      "46            5.0                   2.2\n",
      "47            5.5                   2.8\n",
      "48            6.0                   3.0\n"
     ]
    }
   ],
   "source": [
    "df = df.drop(['Nama'], axis=1)\n",
    "print(df)"
   ]
  },
  {
   "cell_type": "code",
   "execution_count": 57,
   "metadata": {},
   "outputs": [
    {
     "name": "stdout",
     "output_type": "stream",
     "text": [
      "\n",
      "Data Gaji dan Pengeluaran\n",
      "[[5.  2. ]\n",
      " [4.5 1.5]\n",
      " [6.  3. ]\n",
      " [7.  2.5]\n",
      " [3.  2. ]\n",
      " [3.5 1.5]\n",
      " [8.  4. ]\n",
      " [9.  3.5]\n",
      " [2.5 1.8]\n",
      " [3.5 2.2]\n",
      " [4.  1.8]\n",
      " [5.5 2.8]\n",
      " [6.  3.2]\n",
      " [6.5 3.8]\n",
      " [4.  2. ]\n",
      " [4.5 2.3]\n",
      " [5.  2.5]\n",
      " [3.  1.7]\n",
      " [5.5 3. ]\n",
      " [6.  3.5]\n",
      " [7.  4. ]\n",
      " [3.5 1.5]\n",
      " [4.  1.8]\n",
      " [4.5 2. ]\n",
      " [5.  2.2]\n",
      " [5.5 2.8]\n",
      " [6.  3. ]\n",
      " [6.5 3.5]\n",
      " [3.5 1.5]\n",
      " [4.  1.8]\n",
      " [4.5 2. ]\n",
      " [5.  2.2]\n",
      " [5.5 2.8]\n",
      " [6.  3. ]\n",
      " [6.5 3.5]\n",
      " [7.  4. ]\n",
      " [3.5 1.5]\n",
      " [4.  1.8]\n",
      " [4.5 2. ]\n",
      " [5.  2.2]\n",
      " [5.5 2.8]\n",
      " [6.  3. ]\n",
      " [6.5 3.5]\n",
      " [3.5 1.5]\n",
      " [4.  1.8]\n",
      " [4.5 2. ]\n",
      " [5.  2.2]\n",
      " [5.5 2.8]\n",
      " [6.  3. ]]\n",
      "\n",
      "Centroid Random\n",
      "[[7.11111111 3.58888889]\n",
      " [3.83333333 1.80952381]\n",
      " [5.52631579 2.73684211]]\n"
     ]
    }
   ],
   "source": [
    "X = np.asarray(df)\n",
    "print(\"\\nData Gaji dan Pengeluaran\")    \n",
    "print(X)    \n",
    "\n",
    "# Menentukan K-Means randomly\n",
    "kmeans = KMeans(\n",
    "    init=\"random\",\n",
    "    n_clusters=3,\n",
    "    n_init=10,  \n",
    "    max_iter=300,\n",
    "    random_state=42\n",
    ")\n",
    "\n",
    "kmeans.fit(X)\n",
    "print(\"\\nCentroid Random\")\n",
    "print(kmeans.cluster_centers_)\n",
    "\n"
   ]
  },
  {
   "cell_type": "code",
   "execution_count": 58,
   "metadata": {},
   "outputs": [
    {
     "name": "stdout",
     "output_type": "stream",
     "text": [
      "\n",
      "Data dalam Cluster 0:\n",
      "    Gaji (jutaan)  Pengeluaran (jutaan)  Cluster\n",
      "3             7.0                   2.5        0\n",
      "6             8.0                   4.0        0\n",
      "7             9.0                   3.5        0\n",
      "13            6.5                   3.8        0\n",
      "20            7.0                   4.0        0\n",
      "27            6.5                   3.5        0\n",
      "34            6.5                   3.5        0\n",
      "35            7.0                   4.0        0\n",
      "42            6.5                   3.5        0\n",
      "\n",
      "Data dalam Cluster 1:\n",
      "    Gaji (jutaan)  Pengeluaran (jutaan)  Cluster\n",
      "1             4.5                   1.5        1\n",
      "4             3.0                   2.0        1\n",
      "5             3.5                   1.5        1\n",
      "8             2.5                   1.8        1\n",
      "9             3.5                   2.2        1\n",
      "10            4.0                   1.8        1\n",
      "14            4.0                   2.0        1\n",
      "15            4.5                   2.3        1\n",
      "17            3.0                   1.7        1\n",
      "21            3.5                   1.5        1\n",
      "22            4.0                   1.8        1\n",
      "23            4.5                   2.0        1\n",
      "28            3.5                   1.5        1\n",
      "29            4.0                   1.8        1\n",
      "30            4.5                   2.0        1\n",
      "36            3.5                   1.5        1\n",
      "37            4.0                   1.8        1\n",
      "38            4.5                   2.0        1\n",
      "43            3.5                   1.5        1\n",
      "44            4.0                   1.8        1\n",
      "45            4.5                   2.0        1\n",
      "\n",
      "Data dalam Cluster 2:\n",
      "    Gaji (jutaan)  Pengeluaran (jutaan)  Cluster\n",
      "0             5.0                   2.0        2\n",
      "2             6.0                   3.0        2\n",
      "11            5.5                   2.8        2\n",
      "12            6.0                   3.2        2\n",
      "16            5.0                   2.5        2\n",
      "18            5.5                   3.0        2\n",
      "19            6.0                   3.5        2\n",
      "24            5.0                   2.2        2\n",
      "25            5.5                   2.8        2\n",
      "26            6.0                   3.0        2\n",
      "31            5.0                   2.2        2\n",
      "32            5.5                   2.8        2\n",
      "33            6.0                   3.0        2\n",
      "39            5.0                   2.2        2\n",
      "40            5.5                   2.8        2\n",
      "41            6.0                   3.0        2\n",
      "46            5.0                   2.2        2\n",
      "47            5.5                   2.8        2\n",
      "48            6.0                   3.0        2\n"
     ]
    }
   ],
   "source": [
    "# Mendapatkan label cluster untuk setiap data\n",
    "labels = kmeans.labels_\n",
    "\n",
    "# Menambahkan label cluster ke dalam DataFrame\n",
    "df['Cluster'] = labels\n",
    "\n",
    "# Menampilkan data dalam setiap cluster\n",
    "for cluster in np.unique(labels):\n",
    "    cluster_data = df[df['Cluster'] == cluster]\n",
    "    print(f\"\\nData dalam Cluster {cluster}:\")\n",
    "    print(cluster_data)\n"
   ]
  },
  {
   "cell_type": "code",
   "execution_count": 59,
   "metadata": {},
   "outputs": [
    {
     "data": {
      "image/png": "[encoded data removed]",
      "text/plain": [
       "<Figure size 640x480 with 1 Axes>"
      ]
     },
     "metadata": {},
     "output_type": "display_data"
    }
   ],
   "source": [
    "# Hasil Clustering Data\n",
    "plt.scatter(X[:,0], X[:,1], c=kmeans.labels_, cmap=\"rainbow\")\n",
    "plt.xlabel(\"Gaji (jutaan)\")\n",
    "plt.ylabel(\"Pengeluaran (jutaan)\")\n",
    "plt.title(\"Scatter Plot Gaji vs Pengeluaran\")\n",
    "plt.show()"
   ]
  },
  {
   "cell_type": "code",
   "execution_count": 60,
   "metadata": {},
   "outputs": [
    {
     "data": {
      "image/png": "[encoded data removed]",
      "text/plain": [
       "<Figure size 640x480 with 1 Axes>"
      ]
     },
     "metadata": {},
     "output_type": "display_data"
    }
   ],
   "source": [
    "# memviusalisasikan hasil clustering ddengan controid\n",
    "plt.scatter(X[:,0], X[:,1], c=kmeans.labels_, cmap=\"rainbow\")\n",
    "plt.scatter(kmeans.cluster_centers_[:,0], kmeans.cluster_centers_[:,1], color=\"black\")\n",
    "plt.xlabel(\"Gaji (jutaan)\")\n",
    "plt.ylabel(\"Pengeluaran (jutaan)\")\n",
    "plt.title(\"Scatter Plot Gaji vs Pengeluaran\")\n",
    "plt.show()"
   ]
  },
  {
   "cell_type": "code",
   "execution_count": 61,
   "metadata": {},
   "outputs": [
    {
     "name": "stdout",
     "output_type": "stream",
     "text": [
      "WCSS: 21.74359231411863\n",
      "Silhouette Coefficient: 0.5159780601556684\n"
     ]
    }
   ],
   "source": [
    "from sklearn.metrics import silhouette_score\n",
    "\n",
    "kmeans = KMeans(n_clusters=3, n_init=10, random_state=42)\n",
    "kmeans.fit(X)\n",
    "\n",
    "# Menghitung WCSS (Within-Cluster Sum of Squares)\n",
    "wcss = kmeans.inertia_\n",
    "print(\"WCSS:\", wcss)\n",
    "\n",
    "# Menghitung Silhouette Coefficient\n",
    "silhouette_coefficient = silhouette_score(X, kmeans.labels_)\n",
    "print(\"Silhouette Coefficient:\", silhouette_coefficient)"
   ]
  }
 ],
 "metadata": {
  "kernelspec": {
   "display_name": "Python 3",
   "language": "python",
   "name": "python3"
  },
  "language_info": {
   "codemirror_mode": {
    "name": "ipython",
    "version": 3
   },
   "file_extension": ".py",
   "mimetype": "text/x-python",
   "name": "python",
   "nbconvert_exporter": "python",
   "pygments_lexer": "ipython3",
   "version": "3.11.3"
  },
  "orig_nbformat": 4
 },
 "nbformat": 4,
 "nbformat_minor": 2
}
